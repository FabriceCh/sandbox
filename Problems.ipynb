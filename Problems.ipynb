{
 "cells": [
  {
   "cell_type": "markdown",
   "metadata": {},
   "source": [
    "# Collection of various problem resolutions"
   ]
  },
  {
   "cell_type": "markdown",
   "metadata": {},
   "source": [
    "## Palindrome with max 1 aberrant letter "
   ]
  },
  {
   "cell_type": "code",
   "execution_count": 77,
   "metadata": {},
   "outputs": [],
   "source": [
    "def is_almost_palindrome(msg):\n",
    "    had_aberrant_letter = False\n",
    "    forward_index = 0\n",
    "    backward_index = len(msg) - 1\n",
    "    for i in range(int(len(msg)/2)):\n",
    "        forward_letter = msg[forward_index + i]\n",
    "        backward_letter = msg[backward_index - i]\n",
    "        if forward_letter != backward_letter:\n",
    "            print(\"found an aberration: \" + forward_letter + \" != \" + backward_letter)\n",
    "            if had_aberrant_letter:\n",
    "                return False\n",
    "            else:\n",
    "                peek_forward_letter = msg[forward_index + i + 1]\n",
    "                peek_backward_letter = msg[backward_index - i - 1]\n",
    "                if peek_backward_letter == peek_forward_letter:\n",
    "                    ;\n",
    "                elif peek_forward_letter == backward_letter:\n",
    "                    forward_index += 1\n",
    "                elif peek_backward_letter == forward_letter:\n",
    "                    backward_index -= 1\n",
    "                had_aberrant_letter = True\n",
    "    return True\n",
    "    "
   ]
  },
  {
   "cell_type": "code",
   "execution_count": 78,
   "metadata": {},
   "outputs": [
    {
     "data": {
      "text/plain": [
       "True"
      ]
     },
     "execution_count": 78,
     "metadata": {},
     "output_type": "execute_result"
    }
   ],
   "source": [
    "msg = \"kayak\"\n",
    "is_almost_palindrome(msg)"
   ]
  },
  {
   "cell_type": "code",
   "execution_count": 79,
   "metadata": {},
   "outputs": [
    {
     "name": "stdout",
     "output_type": "stream",
     "text": [
      "found an aberration: k != s\n"
     ]
    },
    {
     "data": {
      "text/plain": [
       "True"
      ]
     },
     "execution_count": 79,
     "metadata": {},
     "output_type": "execute_result"
    }
   ],
   "source": [
    "msg = \"kayaks\"\n",
    "is_almost_palindrome(msg)"
   ]
  },
  {
   "cell_type": "code",
   "execution_count": 80,
   "metadata": {},
   "outputs": [
    {
     "name": "stdout",
     "output_type": "stream",
     "text": [
      "found an aberration: b != a\n"
     ]
    },
    {
     "data": {
      "text/plain": [
       "True"
      ]
     },
     "execution_count": 80,
     "metadata": {},
     "output_type": "execute_result"
    }
   ],
   "source": [
    "msg = \"kbyak\"\n",
    "is_almost_palindrome(msg)"
   ]
  },
  {
   "cell_type": "code",
   "execution_count": 81,
   "metadata": {},
   "outputs": [
    {
     "name": "stdout",
     "output_type": "stream",
     "text": [
      "found an aberration: y != a\n"
     ]
    },
    {
     "data": {
      "text/plain": [
       "True"
      ]
     },
     "execution_count": 81,
     "metadata": {},
     "output_type": "execute_result"
    }
   ],
   "source": [
    "msg = \"kayaak\"\n",
    "is_almost_palindrome(msg)"
   ]
  },
  {
   "cell_type": "code",
   "execution_count": 82,
   "metadata": {},
   "outputs": [
    {
     "name": "stdout",
     "output_type": "stream",
     "text": [
      "found an aberration: b != a\n",
      "found an aberration: y != a\n"
     ]
    },
    {
     "data": {
      "text/plain": [
       "False"
      ]
     },
     "execution_count": 82,
     "metadata": {},
     "output_type": "execute_result"
    }
   ],
   "source": [
    "msg = \"kbyaak\"\n",
    "is_almost_palindrome(msg)"
   ]
  },
  {
   "cell_type": "code",
   "execution_count": 83,
   "metadata": {},
   "outputs": [
    {
     "name": "stdout",
     "output_type": "stream",
     "text": [
      "found an aberration: b != a\n"
     ]
    },
    {
     "data": {
      "text/plain": [
       "True"
      ]
     },
     "execution_count": 83,
     "metadata": {},
     "output_type": "execute_result"
    }
   ],
   "source": [
    "msg = \"kbayaak\"\n",
    "is_almost_palindrome(msg)"
   ]
  },
  {
   "cell_type": "code",
   "execution_count": 84,
   "metadata": {},
   "outputs": [
    {
     "data": {
      "text/plain": [
       "True"
      ]
     },
     "execution_count": 84,
     "metadata": {},
     "output_type": "execute_result"
    }
   ],
   "source": [
    "msg = \"\"\n",
    "is_almost_palindrome(msg)"
   ]
  },
  {
   "cell_type": "code",
   "execution_count": 85,
   "metadata": {},
   "outputs": [
    {
     "data": {
      "text/plain": [
       "True"
      ]
     },
     "execution_count": 85,
     "metadata": {},
     "output_type": "execute_result"
    }
   ],
   "source": [
    "msg = \"a\"\n",
    "is_almost_palindrome(msg)"
   ]
  },
  {
   "cell_type": "code",
   "execution_count": null,
   "metadata": {},
   "outputs": [],
   "source": []
  },
  {
   "cell_type": "markdown",
   "metadata": {},
   "source": [
    "## Sum Lists\n",
    "### You have two numbers represented by a linked list, where each node contains a single digit. The digits are stored in reverse order, such that the 1 's digit is at the head of the list. Write a function that adds the two numbers and returns the sum as a linked list.\n",
    "EXAMPLE\n",
    "\n",
    "Input: (7-> 1 -> 6) + (5 -> 9 -> 2).That is,617 + 295.\n",
    "\n",
    "Output: 2 -> 1 -> 9. That is, 912.\n",
    "\n",
    "FOLLOW UP\n",
    "\n",
    "Suppose the digits are stored in forward order. Repeat the above problem.\n",
    "\n",
    "EXAMPLE\n",
    "\n",
    "lnput:(6 -> 1 -> 7) + (2 -> 9 -> 5).That is,617 + 295.\n",
    "\n",
    "Output: 9 -> 1 -> 2. That is, 912.  "
   ]
  },
  {
   "cell_type": "code",
   "execution_count": null,
   "metadata": {},
   "outputs": [],
   "source": [
    "class LinkedList:\n",
    "    \n",
    "    class Node:\n",
    "        \n",
    "        def __init__(self, value, next_node):\n",
    "            self.value = value\n",
    "            self.next_node = next_node\n",
    "    \n",
    "    def __init__(self):\n",
    "        self.head = None\n",
    "        self.tail = None\n",
    "    \n",
    "    def append_to_head(self, value):\n",
    "        new_node = Node(value, None)\n",
    "        if self.head == None:\n",
    "            self.head = new_node\n",
    "            self.tail = new_node\n",
    "        else:\n",
    "            self.head.next_node = new_node\n",
    "            \n",
    "            \n",
    "    def append_to_tail(self, value):\n",
    "        new_node = Node(value, None)\n",
    "        if self.head == None:\n",
    "            self.head = new_node\n",
    "            self.tail = new_node\n",
    "        "
   ]
  }
 ],
 "metadata": {
  "kernelspec": {
   "display_name": "Python 3",
   "language": "python",
   "name": "python3"
  },
  "language_info": {
   "codemirror_mode": {
    "name": "ipython",
    "version": 3
   },
   "file_extension": ".py",
   "mimetype": "text/x-python",
   "name": "python",
   "nbconvert_exporter": "python",
   "pygments_lexer": "ipython3",
   "version": "3.7.2"
  }
 },
 "nbformat": 4,
 "nbformat_minor": 2
}
