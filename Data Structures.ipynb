{
 "cells": [
  {
   "cell_type": "markdown",
   "metadata": {},
   "source": [
    "# Data Structures - python implementations\n",
    "\n"
   ]
  },
  {
   "cell_type": "markdown",
   "metadata": {},
   "source": [
    "## Hash Table\n"
   ]
  },
  {
   "cell_type": "code",
   "execution_count": 101,
   "metadata": {},
   "outputs": [],
   "source": [
    "class Hash_table:\n",
    "    \n",
    "    def __init__(self, size):\n",
    "        self.hash_table = [[] for _ in range(size)]\n",
    "        \n",
    "    def hash_function(self, key):\n",
    "        return hash(key) % len(self.hash_table)\n",
    "    \n",
    "    def insert(self, key, value):\n",
    "        index = self.hash_function(key)\n",
    "        key_already_exists = False\n",
    "        sub_list = self.hash_table[index]\n",
    "        \n",
    "        for i, item in enumerate(sub_list):\n",
    "            k, v = item\n",
    "            if k == key:\n",
    "                key_already_exists = True\n",
    "                \n",
    "        if key_already_exists:\n",
    "            self.hash_table[index][i] = (key, value)\n",
    "        else:\n",
    "            self.hash_table[index].append((key, value))\n",
    "\n",
    "    def get_value(self, key):\n",
    "        index = self.hash_function(key)\n",
    "        sub_list = self.hash_table[index]\n",
    "        \n",
    "        for i, item in enumerate(sub_list):\n",
    "            k, v = item\n",
    "            if k == key:\n",
    "                return v\n",
    "            \n",
    "    def delete(self, key):\n",
    "        index = self.hash_function(key)\n",
    "        key_already_exists = False\n",
    "        sub_list = self.hash_table[index]\n",
    "        \n",
    "        for i, item in enumerate(sub_list):\n",
    "            k, v = item\n",
    "            if k == key:\n",
    "                key_already_exists = True\n",
    "                \n",
    "        if key_already_exists:\n",
    "            del self.hash_table[index][i]\n",
    "        else:\n",
    "            print(\"key \" + str(key) + \" was not found\")\n",
    "                                      "
   ]
  },
  {
   "cell_type": "code",
   "execution_count": 102,
   "metadata": {},
   "outputs": [
    {
     "name": "stdout",
     "output_type": "stream",
     "text": [
      "Amazon\n"
     ]
    }
   ],
   "source": [
    "my_hash_table = Hash_table(10)\n",
    "\n",
    "my_hash_table.insert(10, \"Microsoft\")\n",
    "my_hash_table.insert(11, \"Google\")\n",
    "my_hash_table.insert(24, \"Facebook\")\n",
    "my_hash_table.insert(21, \"Armagzons\")\n",
    "my_hash_table.insert(21, \"Amazon\")\n",
    "\n",
    "print(my_hash_table.get_value(21))\n",
    "#my_hash_table.hash_table"
   ]
  },
  {
   "cell_type": "code",
   "execution_count": 103,
   "metadata": {},
   "outputs": [
    {
     "data": {
      "text/plain": [
       "[[(10, 'Microsoft')],\n",
       " [(11, 'Google'), (21, 'Amazon')],\n",
       " [],\n",
       " [],\n",
       " [],\n",
       " [],\n",
       " [],\n",
       " [],\n",
       " [],\n",
       " []]"
      ]
     },
     "execution_count": 103,
     "metadata": {},
     "output_type": "execute_result"
    }
   ],
   "source": [
    "my_hash_table.delete(24)\n",
    "my_hash_table.hash_table"
   ]
  },
  {
   "cell_type": "markdown",
   "metadata": {},
   "source": [
    "## Stack"
   ]
  },
  {
   "cell_type": "code",
   "execution_count": 118,
   "metadata": {},
   "outputs": [],
   "source": [
    "class Node:\n",
    "    def __init__(self, value, next_node):\n",
    "        self.value = value\n",
    "        self.next_node = next_node\n",
    "        \n",
    "class Stack:\n",
    "    \n",
    "    \n",
    "    def __init__(self):\n",
    "        self.head = None\n",
    "        \n",
    "    def print_stack(self):\n",
    "        \n",
    "        current_node = self.head\n",
    "        while True:\n",
    "            if(current_node != None):\n",
    "                print(current_node.value)\n",
    "                current_node = current_node.next_node\n",
    "            else:\n",
    "                break\n",
    "            \n",
    "        \n",
    "    def insert(self, value):\n",
    "        if self.head == None:\n",
    "            new_node = Node(value, None)\n",
    "            self.head = new_node\n",
    "        else:\n",
    "            new_node = Node(value, self.head)\n",
    "            self.head = new_node\n",
    "            \n",
    "    def pop(self):\n",
    "        temp = self.head\n",
    "        self.head = temp.next_node\n",
    "        return temp.value"
   ]
  },
  {
   "cell_type": "code",
   "execution_count": 121,
   "metadata": {},
   "outputs": [
    {
     "name": "stdout",
     "output_type": "stream",
     "text": [
      "33\n",
      "21\n",
      "hello\n",
      "first entered the stack\n",
      "value returned: last entered the stack\n"
     ]
    }
   ],
   "source": [
    "my_stack = Stack()\n",
    "my_stack.print_stack()\n",
    "my_stack.insert(\"first entered the stack\")\n",
    "my_stack.insert(\"hello\")\n",
    "my_stack.insert(21)\n",
    "my_stack.insert(33)\n",
    "my_stack.insert(\"last entered the stack\")\n",
    "my_value = my_stack.pop()\n",
    "my_stack.print_stack()\n",
    "print(\"value returned: \" + str(my_value))"
   ]
  },
  {
   "cell_type": "code",
   "execution_count": null,
   "metadata": {},
   "outputs": [],
   "source": []
  }
 ],
 "metadata": {
  "kernelspec": {
   "display_name": "Python 3",
   "language": "python",
   "name": "python3"
  },
  "language_info": {
   "codemirror_mode": {
    "name": "ipython",
    "version": 3
   },
   "file_extension": ".py",
   "mimetype": "text/x-python",
   "name": "python",
   "nbconvert_exporter": "python",
   "pygments_lexer": "ipython3",
   "version": "3.6.8"
  }
 },
 "nbformat": 4,
 "nbformat_minor": 2
}
